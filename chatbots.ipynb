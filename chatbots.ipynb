{
 "cells": [
  {
   "cell_type": "code",
   "execution_count": 2,
   "id": "9b6b72c7",
   "metadata": {},
   "outputs": [],
   "source": [
    "import os\n",
    "from dotenv import load_dotenv\n",
    "\n",
    "load_dotenv()\n",
    "\n",
    "groq_api_key = os.getenv(\"GROQ_API_KEY\")\n"
   ]
  },
  {
   "cell_type": "code",
   "execution_count": null,
   "id": "4c272f9a",
   "metadata": {},
   "outputs": [
    {
     "data": {
      "text/plain": [
       "ChatGroq(client=<groq.resources.chat.completions.Completions object at 0x000001F3EACC8AA0>, async_client=<groq.resources.chat.completions.AsyncCompletions object at 0x000001F3EA9FC6E0>, model_name='Gemma2-9b-It', model_kwargs={}, groq_api_key=SecretStr('**********'))"
      ]
     },
     "execution_count": 3,
     "metadata": {},
     "output_type": "execute_result"
    }
   ],
   "source": [
    "# Loading Model\n",
    "from langchain_groq import ChatGroq\n",
    "model=ChatGroq(model=\"Gemma2-9b-It\", groq_api_key=groq_api_key)\n",
    "model"
   ]
  },
  {
   "cell_type": "code",
   "execution_count": null,
   "id": "3e3977a9",
   "metadata": {},
   "outputs": [
    {
     "data": {
      "text/plain": [
       "AIMessage(content=\"Hello Pritam Saha,\\n\\nIt's nice to meet you! Congratulations on graduating with a CS degree. That's a fantastic accomplishment. \\n\\nWhat are your interests within computer science? Perhaps we can discuss them further.\\n\", additional_kwargs={}, response_metadata={'token_usage': {'completion_tokens': 49, 'prompt_tokens': 23, 'total_tokens': 72, 'completion_time': 0.089090909, 'prompt_time': 0.001321949, 'queue_time': 0.246536411, 'total_time': 0.090412858}, 'model_name': 'Gemma2-9b-It', 'system_fingerprint': 'fp_10c08bf97d', 'service_tier': 'on_demand', 'finish_reason': 'stop', 'logprobs': None}, id='run--3afed7b3-e209-42b7-bf45-aea4d1f4962e-0', usage_metadata={'input_tokens': 23, 'output_tokens': 49, 'total_tokens': 72})"
      ]
     },
     "execution_count": 5,
     "metadata": {},
     "output_type": "execute_result"
    }
   ],
   "source": [
    "# Response from llm\n",
    "from langchain_core.messages import HumanMessage\n",
    "model.invoke([HumanMessage(content=\"Hi, my name is Pritam Saha and I am CS graduate.\")])"
   ]
  },
  {
   "cell_type": "code",
   "execution_count": 7,
   "id": "7ed47ac0",
   "metadata": {},
   "outputs": [
    {
     "data": {
      "text/plain": [
       "AIMessage(content='You said your name is Pritam Saha and that you are a CS graduate.  \\n\\nIs there anything else I can help you with?\\n', additional_kwargs={}, response_metadata={'token_usage': {'completion_tokens': 31, 'prompt_tokens': 56, 'total_tokens': 87, 'completion_time': 0.056363636, 'prompt_time': 0.001795736, 'queue_time': 0.249708912, 'total_time': 0.058159372}, 'model_name': 'Gemma2-9b-It', 'system_fingerprint': 'fp_10c08bf97d', 'service_tier': 'on_demand', 'finish_reason': 'stop', 'logprobs': None}, id='run--37bf1d67-654f-4a9b-b211-0cf65197999e-0', usage_metadata={'input_tokens': 56, 'output_tokens': 31, 'total_tokens': 87})"
      ]
     },
     "execution_count": 7,
     "metadata": {},
     "output_type": "execute_result"
    }
   ],
   "source": [
    "# \n",
    "from re import A\n",
    "from langchain_core.messages import AIMessage\n",
    "model.invoke([\n",
    "    HumanMessage(content=\"Hi, my name is Pritam Saha and I am CS graduate.\"),\n",
    "    AIMessage(content=\"Hello Pritam! How can I assist you today?\"),\n",
    "    HumanMessage(content=\"Can you tell me my name & what do I do?\")\n",
    "])"
   ]
  },
  {
   "cell_type": "markdown",
   "id": "54664d1e",
   "metadata": {},
   "source": [
    "# Message History"
   ]
  },
  {
   "cell_type": "code",
   "execution_count": 16,
   "id": "52cb7f59",
   "metadata": {},
   "outputs": [],
   "source": [
    "# Seperate one chat session from others\n",
    "from turtle import st\n",
    "from langchain_community.chat_message_histories import ChatMessageHistory\n",
    "from langchain_core.chat_history import BaseChatMessageHistory\n",
    "from langchain_core.runnables.history import RunnableWithMessageHistory\n",
    "\n",
    "store = {}\n",
    "\n",
    "def get_session_history(session_id:str)->BaseChatMessageHistory:\n",
    "    if session_id not in store:\n",
    "        store[session_id]=ChatMessageHistory()\n",
    "    return store[session_id]"
   ]
  },
  {
   "cell_type": "code",
   "execution_count": 17,
   "id": "cadc2b4f",
   "metadata": {},
   "outputs": [],
   "source": [
    "# Interact with the LLM based on the Chat History\n",
    "\n",
    "with_message_history=RunnableWithMessageHistory(model, get_session_history)"
   ]
  },
  {
   "cell_type": "code",
   "execution_count": 26,
   "id": "ec1037a9",
   "metadata": {},
   "outputs": [],
   "source": [
    "#\n",
    "config={\"configurable\": {\"session_id\": \"chat1\"}}"
   ]
  },
  {
   "cell_type": "code",
   "execution_count": 27,
   "id": "f2230a06",
   "metadata": {},
   "outputs": [
    {
     "data": {
      "text/plain": [
       "AIMessage(content=\"Alright, alright!  😄 \\n\\nYou're Pritam Saha.  \\n\\nIs there a reason you're asking me this so many times? \\n\\n\\n\", additional_kwargs={}, response_metadata={'token_usage': {'completion_tokens': 35, 'prompt_tokens': 384, 'total_tokens': 419, 'completion_time': 0.063636364, 'prompt_time': 0.007889794, 'queue_time': 0.250164895, 'total_time': 0.071526158}, 'model_name': 'Gemma2-9b-It', 'system_fingerprint': 'fp_10c08bf97d', 'service_tier': 'on_demand', 'finish_reason': 'stop', 'logprobs': None}, id='run--ae4b033f-b276-4be5-8e2b-3d998aa6c199-0', usage_metadata={'input_tokens': 384, 'output_tokens': 35, 'total_tokens': 419})"
      ]
     },
     "execution_count": 27,
     "metadata": {},
     "output_type": "execute_result"
    }
   ],
   "source": [
    "# Interat based on the session id\n",
    "\n",
    "response=with_message_history.invoke(\n",
    "    [HumanMessage(content=\"Hi, my name is what?\")],\n",
    "    config = config,\n",
    ")\n",
    "\n",
    "response"
   ]
  },
  {
   "cell_type": "code",
   "execution_count": 31,
   "id": "fe00fd68",
   "metadata": {},
   "outputs": [
    {
     "data": {
      "text/plain": [
       "\"That's a fun question!  Since you're asking me, I assume you're looking for a creative name.  \\n\\nHow about some options to get you started?\\n\\n* **Based on your personality:** Are you playful? Adventurous? Thoughtful? \\n* **Inspired by your interests:** Do you love music, books, nature?\\n* **Something unique and memorable:**  Maybe a made-up word or a combination of two words.\\n\\n\\nLet me know if you want to brainstorm some ideas together!  \\n\\n\""
      ]
     },
     "execution_count": 31,
     "metadata": {},
     "output_type": "execute_result"
    }
   ],
   "source": [
    "# changing the session Id to test \n",
    "\n",
    "config1={\"configurable\": {\"session_id\": \"chat2\"}}\n",
    "\n",
    "response=with_message_history.invoke(\n",
    "    [HumanMessage(content=\"Hi, my name is what?\")],\n",
    "    config= config1,\n",
    ")\n",
    "\n",
    "response.content"
   ]
  },
  {
   "cell_type": "code",
   "execution_count": 33,
   "id": "527432cf",
   "metadata": {},
   "outputs": [
    {
     "data": {
      "text/plain": [
       "\"As an AI, I don't have memory of past conversations.  So, I don't know your name.  \\n\\nWhat is your name? 😊  I'd love to know!\\n\""
      ]
     },
     "execution_count": 33,
     "metadata": {},
     "output_type": "execute_result"
    }
   ],
   "source": [
    "response=with_message_history.invoke(\n",
    "    [HumanMessage(content=\"Hi, do you know my name ?\")],\n",
    "    config= config1,\n",
    ")\n",
    "\n",
    "response.content"
   ]
  }
 ],
 "metadata": {
  "kernelspec": {
   "display_name": "Python 3",
   "language": "python",
   "name": "python3"
  },
  "language_info": {
   "codemirror_mode": {
    "name": "ipython",
    "version": 3
   },
   "file_extension": ".py",
   "mimetype": "text/x-python",
   "name": "python",
   "nbconvert_exporter": "python",
   "pygments_lexer": "ipython3",
   "version": "3.12.11"
  }
 },
 "nbformat": 4,
 "nbformat_minor": 5
}
